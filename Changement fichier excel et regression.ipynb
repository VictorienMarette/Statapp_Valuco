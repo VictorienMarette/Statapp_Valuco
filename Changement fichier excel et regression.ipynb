{
 "cells": [
  {
   "cell_type": "code",
   "execution_count": 1,
   "id": "cf69b99f",
   "metadata": {},
   "outputs": [
    {
     "name": "stdout",
     "output_type": "stream",
     "text": [
      "Collecting openpyxl\n",
      "  Downloading openpyxl-3.1.5-py2.py3-none-any.whl.metadata (2.5 kB)\n",
      "Collecting et-xmlfile (from openpyxl)\n",
      "  Downloading et_xmlfile-2.0.0-py3-none-any.whl.metadata (2.7 kB)\n",
      "Downloading openpyxl-3.1.5-py2.py3-none-any.whl (250 kB)\n",
      "Downloading et_xmlfile-2.0.0-py3-none-any.whl (18 kB)\n",
      "Installing collected packages: et-xmlfile, openpyxl\n",
      "\u001b[2K   \u001b[90m━━━━━━━━━━━━━━━━━━━━━━━━━━━━━━━━━━━━━━━━\u001b[0m \u001b[32m2/2\u001b[0m [openpyxl]1/2\u001b[0m [openpyxl]\n",
      "\u001b[1A\u001b[2KSuccessfully installed et-xmlfile-2.0.0 openpyxl-3.1.5\n"
     ]
    }
   ],
   "source": [
    "import pandas as pd\n",
    "!pip install openpyxl"
   ]
  },
  {
   "cell_type": "code",
   "execution_count": 6,
   "id": "4e17f607",
   "metadata": {},
   "outputs": [],
   "source": [
    "df = pd.read_excel(\"/home/onyxia/work/Statapp_Valuco/feuilles_separees/ValueCo V2_ESG2024.xlsx\")\n",
    "\n",
    "# S'assurer que IVA_RATING_DATE est en datetime\n",
    "df['IVA_RATING_DATE'] = pd.to_datetime(df['IVA_RATING_DATE'])\n",
    "\n",
    "# Extraire l'année et le trimestre\n",
    "df['ANNEE'] = df['IVA_RATING_DATE'].dt.year\n",
    "df['TRIMESTRE'] = df['IVA_RATING_DATE'].dt.quarter\n",
    "\n",
    "# Trier pour que la première date du trimestre soit en haut\n",
    "df = df.sort_values(by=['ISSUER_ISIN', 'ANNEE', 'TRIMESTRE', 'IVA_RATING_DATE'])\n",
    "\n",
    "# Garder la première ligne de chaque groupe (ISIN + année + trimestre)\n",
    "df_filtered = df.groupby(['ISSUER_ISIN', 'ANNEE', 'TRIMESTRE'], as_index=False).first()\n",
    "\n",
    "# Supprimer la colonne IVA_RATING_DATE\n",
    "df_filtered = df_filtered.drop(columns=['IVA_RATING_DATE'])\n",
    "\n",
    "# Sauvegarder en CSV\n",
    "df_filtered.to_csv(\"msci_trimestre.csv\", index=False)"
   ]
  },
  {
   "cell_type": "code",
   "execution_count": 3,
   "id": "c639cd1f",
   "metadata": {},
   "outputs": [],
   "source": [
    "df = pd.read_csv(\"/home/onyxia/work/Statapp_Valuco/ValueCo data extract - ENSAE research project.csv\", parse_dates=[\"period\"])\n",
    "\n",
    "# Extraire l'année et le trimestre\n",
    "df[\"annee\"] = df[\"period\"].dt.year\n",
    "df[\"trimestre\"] = df[\"period\"].dt.quarter\n",
    "\n",
    "# Trier les données pour que la première date soit en haut de chaque groupe\n",
    "df = df.sort_values(by=[\"name\", \"score_kind\", \"annee\", \"trimestre\", \"period\"])\n",
    "\n",
    "# Garder la première ligne par groupe (name, score_kind, annee, trimestre)\n",
    "df_filtered = df.groupby([\"name\", \"score_kind\", \"annee\", \"trimestre\"]).first().reset_index()\n",
    "\n",
    "# Supprimer la colonne period si elle n'est plus utile\n",
    "df_filtered = df_filtered.drop(columns=[\"period\"])\n",
    "\n",
    "# Enregistrer le résultat\n",
    "df_filtered.to_csv(\"Valueco_trimestre.csv\", index=False)"
   ]
  },
  {
   "cell_type": "code",
   "execution_count": 12,
   "id": "f2a6366c",
   "metadata": {},
   "outputs": [],
   "source": [
    "df = pd.read_csv(\"/home/onyxia/work/Statapp_Valuco/feuilles_separees/Valueco_trimestre.csv\")\n",
    "\n",
    "# Vérifier que les colonnes année et trimestre sont bien des entiers\n",
    "df[\"annee\"] = df[\"annee\"].astype(int)\n",
    "df[\"trimestre\"] = df[\"trimestre\"].astype(int)\n",
    "\n",
    "# Créer une colonne de tri temporel\n",
    "df[\"ordre\"] = df[\"annee\"] * 10 + df[\"trimestre\"]\n",
    "\n",
    "# Trier les données pour le calcul du delta\n",
    "df = df.sort_values(by=[\"name\", \"score_kind\", \"ordre\"])\n",
    "\n",
    "# Calculer la différence du score avec le trimestre précédent\n",
    "df[\"delta\"] = df.groupby([\"name\", \"score_kind\"])[\"consensus\"].diff()\n",
    "\n",
    "# Supprimer la colonne temporaire de tri\n",
    "df = df.drop(columns=[\"ordre\"])\n",
    "\n",
    "# Sauvegarder le nouveau fichier CSV\n",
    "df.to_csv(\"Valueco_avec_delta.csv\", index=False)"
   ]
  },
  {
   "cell_type": "code",
   "execution_count": 13,
   "id": "fd938304",
   "metadata": {},
   "outputs": [],
   "source": [
    "df = pd.read_csv(\"/home/onyxia/work/Statapp_Valuco/feuilles_separees/msci_trimestre.csv\")\n",
    "\n",
    "# S'assurer que les colonnes ANNEE et TRIMESTRE sont bien de type entier\n",
    "df[\"ANNEE\"] = df[\"ANNEE\"].astype(int)\n",
    "df[\"TRIMESTRE\"] = df[\"TRIMESTRE\"].astype(int)\n",
    "\n",
    "# Créer une colonne de tri chronologique\n",
    "df[\"ordre\"] = df[\"ANNEE\"] * 10 + df[\"TRIMESTRE\"]\n",
    "\n",
    "# Trier correctement\n",
    "df = df.sort_values(by=[\"ISSUER_ISIN\", \"ordre\"])\n",
    "\n",
    "# Liste des scores pour lesquels on veut un delta\n",
    "scores = [\n",
    "    \"WEIGHTED_AVERAGE_SCORE\",\n",
    "    \"ENVIRONMENTAL_PILLAR_SCORE\",\n",
    "    \"SOCIAL_PILLAR_SCORE\",\n",
    "    \"GOVERNANCE_PILLAR_SCORE\"\n",
    "]\n",
    "\n",
    "# Calculer les deltas\n",
    "for score in scores:\n",
    "    df[f\"delta_{score}\"] = df.groupby(\"ISSUER_ISIN\")[score].diff()\n",
    "\n",
    "# Supprimer la colonne temporaire\n",
    "df = df.drop(columns=[\"ordre\"])\n",
    "\n",
    "# Sauvegarder dans un nouveau fichier\n",
    "df.to_csv(\"MSCI_avec_deltas.csv\", index=False)"
   ]
  }
 ],
 "metadata": {
  "kernelspec": {
   "display_name": "Python 3",
   "language": "python",
   "name": "python3"
  },
  "language_info": {
   "codemirror_mode": {
    "name": "ipython",
    "version": 3
   },
   "file_extension": ".py",
   "mimetype": "text/x-python",
   "name": "python",
   "nbconvert_exporter": "python",
   "pygments_lexer": "ipython3",
   "version": "3.12.9"
  }
 },
 "nbformat": 4,
 "nbformat_minor": 5
}
