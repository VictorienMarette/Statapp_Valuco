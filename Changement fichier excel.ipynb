{
 "cells": [
  {
   "cell_type": "code",
   "execution_count": 5,
   "id": "cf69b99f",
   "metadata": {},
   "outputs": [
    {
     "name": "stdout",
     "output_type": "stream",
     "text": [
      "Collecting openpyxl\n",
      "  Downloading openpyxl-3.1.5-py2.py3-none-any.whl.metadata (2.5 kB)\n",
      "Collecting et-xmlfile (from openpyxl)\n",
      "  Downloading et_xmlfile-2.0.0-py3-none-any.whl.metadata (2.7 kB)\n",
      "Downloading openpyxl-3.1.5-py2.py3-none-any.whl (250 kB)\n",
      "Downloading et_xmlfile-2.0.0-py3-none-any.whl (18 kB)\n",
      "Installing collected packages: et-xmlfile, openpyxl\n",
      "\u001b[2K   \u001b[90m━━━━━━━━━━━━━━━━━━━━━━━━━━━━━━━━━━━━━━━━\u001b[0m \u001b[32m2/2\u001b[0m [openpyxl]1/2\u001b[0m [openpyxl]\n",
      "\u001b[1A\u001b[2KSuccessfully installed et-xmlfile-2.0.0 openpyxl-3.1.5\n"
     ]
    }
   ],
   "source": [
    "import pandas as pd\n",
    "!pip install openpyxl"
   ]
  },
  {
   "cell_type": "code",
   "execution_count": 6,
   "id": "4e17f607",
   "metadata": {},
   "outputs": [],
   "source": [
    "df = pd.read_excel(\"/home/onyxia/work/Statapp_Valuco/feuilles_separees/ValueCo V2_ESG2024.xlsx\")\n",
    "\n",
    "# S'assurer que IVA_RATING_DATE est en datetime\n",
    "df['IVA_RATING_DATE'] = pd.to_datetime(df['IVA_RATING_DATE'])\n",
    "\n",
    "# Extraire l'année et le trimestre\n",
    "df['ANNEE'] = df['IVA_RATING_DATE'].dt.year\n",
    "df['TRIMESTRE'] = df['IVA_RATING_DATE'].dt.quarter\n",
    "\n",
    "# Trier pour que la première date du trimestre soit en haut\n",
    "df = df.sort_values(by=['ISSUER_ISIN', 'ANNEE', 'TRIMESTRE', 'IVA_RATING_DATE'])\n",
    "\n",
    "# Garder la première ligne de chaque groupe (ISIN + année + trimestre)\n",
    "df_filtered = df.groupby(['ISSUER_ISIN', 'ANNEE', 'TRIMESTRE'], as_index=False).first()\n",
    "\n",
    "# Supprimer la colonne IVA_RATING_DATE\n",
    "df_filtered = df_filtered.drop(columns=['IVA_RATING_DATE'])\n",
    "\n",
    "# Sauvegarder en CSV\n",
    "df_filtered.to_csv(\"msci_trimestre.csv\", index=False)"
   ]
  }
 ],
 "metadata": {
  "kernelspec": {
   "display_name": "Python 3",
   "language": "python",
   "name": "python3"
  },
  "language_info": {
   "codemirror_mode": {
    "name": "ipython",
    "version": 3
   },
   "file_extension": ".py",
   "mimetype": "text/x-python",
   "name": "python",
   "nbconvert_exporter": "python",
   "pygments_lexer": "ipython3",
   "version": "3.12.9"
  }
 },
 "nbformat": 4,
 "nbformat_minor": 5
}
