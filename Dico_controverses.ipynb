{
 "cells": [
  {
   "cell_type": "code",
   "execution_count": 5,
   "metadata": {},
   "outputs": [],
   "source": [
    "# On exécute pip install openpyxl dans le terminal\n",
    "import pandas as pd\n",
    "\n",
    "# Charger le fichier Excel\n",
    "file_path = \"dictionnaire variables.xlsx\"\n",
    "df = pd.read_excel(file_path, sheet_name='Controversy data documentation')\n",
    "\n",
    "# Exporter en LaTeX\n",
    "latex_table = df.to_latex(index=False, longtable=True, escape=False)\n",
    "\n",
    "# Sauvegarder dans un fichier .tex\n",
    "with open(\"dictionnaire_variables_tableau.tex\", \"w\", encoding=\"utf-8\") as f:\n",
    "    f.write(latex_table)"
   ]
  }
 ],
 "metadata": {
  "kernelspec": {
   "display_name": "base",
   "language": "python",
   "name": "python3"
  },
  "language_info": {
   "codemirror_mode": {
    "name": "ipython",
    "version": 3
   },
   "file_extension": ".py",
   "mimetype": "text/x-python",
   "name": "python",
   "nbconvert_exporter": "python",
   "pygments_lexer": "ipython3",
   "version": "3.12.9"
  }
 },
 "nbformat": 4,
 "nbformat_minor": 2
}
