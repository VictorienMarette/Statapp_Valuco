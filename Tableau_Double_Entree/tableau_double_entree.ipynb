{
 "cells": [
  {
   "cell_type": "code",
   "execution_count": 8,
   "metadata": {},
   "outputs": [],
   "source": [
    "import pandas as pd\n",
    "import numpy as np\n",
    "from IPython.display import display"
   ]
  },
  {
   "cell_type": "markdown",
   "metadata": {},
   "source": [
    "Traitement et fonctions"
   ]
  },
  {
   "cell_type": "code",
   "execution_count": 9,
   "metadata": {},
   "outputs": [],
   "source": [
    "valuco_pre = pd.read_csv(\"../ValueCo data extract - ENSAE research project.csv\")\n",
    "valuco_pre['period'] = pd.to_datetime(valuco_pre['period'])\n",
    "valuco_pre = valuco_pre.sort_values(by='period')\n",
    "\n",
    "names = valuco_pre['name'].unique().tolist()\n",
    "company_number = len(names)\n",
    "\n",
    "valuco = valuco_pre.groupby(['name', 'period', 'score_kind'], as_index=False)['consensus'].mean()"
   ]
  },
  {
   "cell_type": "code",
   "execution_count": 10,
   "metadata": {},
   "outputs": [],
   "source": [
    "def get_quartile(score):\n",
    "    if not 0 <= score <= 100:\n",
    "        raise ValueError(\"Score must be between 0 and 100\")\n",
    "    return min(int(score // 25), 3)"
   ]
  },
  {
   "cell_type": "code",
   "execution_count": 11,
   "metadata": {},
   "outputs": [],
   "source": [
    "def print_quantil_table(kind1,kind2,periode):\n",
    "    valuco_temp = valuco[valuco['period'] == periode]\n",
    "    valuco_1 = valuco_temp[valuco_temp['score_kind'] == kind1]\n",
    "    valuco_2 = valuco_temp[valuco_temp['score_kind'] == kind2]\n",
    "\n",
    "    # Noms des lignes (index) et des colonnes\n",
    "    ligne = ['Q1', 'Q2', 'Q3', 'Q4', 'Nodata']\n",
    "\n",
    "    # Création du DataFrame avec noms et dates\n",
    "    df = pd.DataFrame(np.zeros((5, 5)), index=ligne, columns=ligne)\n",
    "\n",
    "    # Nommer les axes\n",
    "    df.index.name = kind1 + '\\\\' + kind2 \n",
    "\n",
    "    for name in names:\n",
    "        i = 4\n",
    "        j = 4\n",
    "\n",
    "        if name in valuco_1['name'].values:\n",
    "            i = get_quartile(float(valuco_1[valuco_1['name'] == name].iloc[0, 3]))\n",
    "\n",
    "        if name in valuco_2['name'].values:\n",
    "            j = get_quartile(float(valuco_2[valuco_2['name'] == name].iloc[0, 3]))\n",
    "\n",
    "        df.iloc[i,j] += 1\n",
    "\n",
    "    print(df/company_number)\n",
    "\n"
   ]
  },
  {
   "cell_type": "code",
   "execution_count": 12,
   "metadata": {},
   "outputs": [],
   "source": [
    "def print_esg_dataexistance_table(kind,periode):\n",
    "    valuco_temp = valuco[valuco['period'] == periode]\n",
    "    valuco_1 = valuco_temp[valuco_temp['score_kind'] == 'ESG']\n",
    "    valuco_2 = valuco_temp[valuco_temp['score_kind'] == kind]\n",
    "\n",
    "    # Noms des lignes (index) et des colonnes\n",
    "    ligne = ['Q1', 'Q2', 'Q3', 'Q4', 'Nodata']\n",
    "    column = ['Data', 'Nodata']\n",
    "\n",
    "    # Création du DataFrame avec noms et dates\n",
    "    df = pd.DataFrame(np.zeros((5, 2)), index=ligne, columns=column)\n",
    "\n",
    "    # Nommer les axes\n",
    "    df.index.name = 'ESG\\\\' + kind \n",
    "\n",
    "    for name in names:\n",
    "        i = 4\n",
    "        j = 1\n",
    "\n",
    "        if name in valuco_1['name'].values:\n",
    "            i = get_quartile(float(valuco_1[valuco_1['name'] == name].iloc[0, 3]))\n",
    "\n",
    "        if name in valuco_2['name'].values:\n",
    "            j = 0\n",
    "\n",
    "        df.iloc[i,j] += 1\n",
    "\n",
    "    print(df/company_number)"
   ]
  },
  {
   "cell_type": "code",
   "execution_count": 13,
   "metadata": {},
   "outputs": [
    {
     "name": "stdout",
     "output_type": "stream",
     "text": [
      "              Q1        Q2        Q3        Q4    Nodata\n",
      "E\\S                                                     \n",
      "Q1      0.008264  0.033058  0.011019  0.000000  0.000000\n",
      "Q2      0.011019  0.242424  0.289256  0.005510  0.000000\n",
      "Q3      0.000000  0.099174  0.261708  0.002755  0.000000\n",
      "Q4      0.000000  0.000000  0.019284  0.000000  0.000000\n",
      "Nodata  0.000000  0.000000  0.000000  0.000000  0.016529\n"
     ]
    }
   ],
   "source": [
    "periode = pd.to_datetime('2024-02-01')\n",
    "print_quantil_table('E','S',periode)"
   ]
  },
  {
   "cell_type": "code",
   "execution_count": 14,
   "metadata": {},
   "outputs": [
    {
     "name": "stdout",
     "output_type": "stream",
     "text": [
      "            Data    Nodata\n",
      "ESG\\E                     \n",
      "Q1      0.008264  0.000000\n",
      "Q2      0.212121  0.011019\n",
      "Q3      0.738292  0.002755\n",
      "Q4      0.024793  0.000000\n",
      "Nodata  0.000000  0.002755\n"
     ]
    }
   ],
   "source": [
    "print_esg_dataexistance_table('E',periode)"
   ]
  }
 ],
 "metadata": {
  "kernelspec": {
   "display_name": "Python 3",
   "language": "python",
   "name": "python3"
  },
  "language_info": {
   "codemirror_mode": {
    "name": "ipython",
    "version": 3
   },
   "file_extension": ".py",
   "mimetype": "text/x-python",
   "name": "python",
   "nbconvert_exporter": "python",
   "pygments_lexer": "ipython3",
   "version": "3.11.2"
  }
 },
 "nbformat": 4,
 "nbformat_minor": 2
}
