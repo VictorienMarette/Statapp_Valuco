{
 "cells": [
  {
   "cell_type": "code",
   "execution_count": 5,
   "metadata": {},
   "outputs": [],
   "source": [
    "import pandas as pd\n",
    "df = pd.read_csv(\"ValueCo data extract - ENSAE research project.csv\")"
   ]
  },
  {
   "cell_type": "code",
   "execution_count": 8,
   "metadata": {},
   "outputs": [
    {
     "name": "stdout",
     "output_type": "stream",
     "text": [
      "Index(['isin', 'name', 'sector', 'industry', 'country', 'region', 'score_kind',\n",
      "       'first_quartile', 'consensus', 'third_quartile', 'strength', 'period'],\n",
      "      dtype='object')\n"
     ]
    }
   ],
   "source": [
    "print(df.columns)"
   ]
  },
  {
   "cell_type": "code",
   "execution_count": 9,
   "metadata": {},
   "outputs": [
    {
     "name": "stdout",
     "output_type": "stream",
     "text": [
      "           isin                        name       sector  \\\n",
      "0  IE0002424939  Dcc public limited company  Industrials   \n",
      "1  FR0010451203                    Rexel sa  Industrials   \n",
      "2  FR0010451203                    Rexel sa  Industrials   \n",
      "3  FR0000120503                 Bouygues sa  Industrials   \n",
      "4  CH0002432174        Bucher industries ag  Industrials   \n",
      "\n",
      "                                  industry      country  region score_kind  \\\n",
      "0      Oil and Gas Retail and Distribution      Ireland  Europe        ESG   \n",
      "1        Electrical Equipment Distributors       France  Europe          S   \n",
      "2        Electrical Equipment Distributors       France  Europe          E   \n",
      "3    Integrated Telecommunication Services       France  Europe          G   \n",
      "4  Construction Machinery and Heavy Trucks  Switzerland  Europe          E   \n",
      "\n",
      "   first_quartile  consensus  third_quartile  strength      period  \n",
      "0            52.4       52.4            52.4     100.0  2020-03-01  \n",
      "1            60.4       60.4            60.4     100.0  2020-03-01  \n",
      "2            49.5       49.5            49.5     100.0  2021-03-01  \n",
      "3            61.5       61.5            61.5     100.0  2020-06-01  \n",
      "4            33.6       40.1            41.3      84.9  2024-12-01  \n"
     ]
    }
   ],
   "source": [
    "print(df.head())"
   ]
  },
  {
   "cell_type": "markdown",
   "metadata": {},
   "source": [
    "Pour obtenir tous les scores d'une entreprise particulière (ici Rexel sa):"
   ]
  },
  {
   "cell_type": "code",
   "execution_count": null,
   "metadata": {},
   "outputs": [],
   "source": [
    "def get_company_data(company_name):\n",
    "    company_df = df[df['name'] == company_name]  \n",
    "    return company_df\n",
    "\n",
    "company = \"Rexel sa\"  \n",
    "result = get_company_data(company)"
   ]
  },
  {
   "cell_type": "code",
   "execution_count": null,
   "metadata": {},
   "outputs": [
    {
     "name": "stdout",
     "output_type": "stream",
     "text": [
      "                         Entreprise      Début        Fin Type de Score  \\\n",
      "0                   Adecco group ag 2020-01-01 2021-01-01             E   \n",
      "1                    Aena sme- s.a. 2024-07-01 2024-10-01             E   \n",
      "2                          Alfen nv 2022-01-01 2022-12-01             E   \n",
      "3                    Beijer alma ab 2023-01-01 2023-07-01             E   \n",
      "4                      Bilfinger se 2023-11-01 2024-07-01             E   \n",
      "..                              ...        ...        ...           ...   \n",
      "862                       Thales sa 2023-10-01 2023-11-01             S   \n",
      "863  Ultra Electronics Holdings plc 2023-01-01 2023-07-01             S   \n",
      "864                    Veidekke asa 2023-08-01 2023-11-01             S   \n",
      "865                  Webuild s.p.a. 2023-01-01 2023-07-01             S   \n",
      "866                Zehnder group ag 2023-07-01 2023-11-01             S   \n",
      "\n",
      "             Mesure  \n",
      "0    first_quartile  \n",
      "1    first_quartile  \n",
      "2    first_quartile  \n",
      "3    first_quartile  \n",
      "4    first_quartile  \n",
      "..              ...  \n",
      "862       consensus  \n",
      "863       consensus  \n",
      "864       consensus  \n",
      "865       consensus  \n",
      "866       consensus  \n",
      "\n",
      "[867 rows x 5 columns]\n"
     ]
    }
   ],
   "source": [
    "def detect_score_improvement(df, threshold=10):\n",
    "    results = []\n",
    "    df['period'] = pd.to_datetime(df['period'])\n",
    "    df = df.sort_values(by=['name', 'score_kind', 'period'])\n",
    "    score_columns = ['first_quartile', 'third_quartile', 'consensus']\n",
    "    for score_type in df['score_kind'].unique():\n",
    "        subset = df[df['score_kind'] == score_type].copy() \n",
    "        for score_col in score_columns:\n",
    "            subset[f'{score_col}_diff'] = subset.groupby('name')[score_col].diff()\n",
    "            improved = subset[subset[f'{score_col}_diff'] >= threshold]\n",
    "            for _, row in improved.iterrows():\n",
    "                results.append({\n",
    "                    'Entreprise': row['name'],\n",
    "                    'Début': subset[(subset['name'] == row['name']) & \n",
    "                                    (subset[score_col] == row[score_col] - row[f'{score_col}_diff'])]['period'].min(),\n",
    "                    'Fin': row['period'],\n",
    "                    'Type de Score': score_type,\n",
    "                    'Mesure': score_col  # Indiquer si l'amélioration est sur Q1, Q3 ou consensus\n",
    "                })\n",
    "    return pd.DataFrame(results)\n",
    "\n",
    "improved_companies = detect_score_improvement(df)\n",
    "print(improved_companies)"
   ]
  }
 ],
 "metadata": {
  "kernelspec": {
   "display_name": "base",
   "language": "python",
   "name": "python3"
  },
  "language_info": {
   "codemirror_mode": {
    "name": "ipython",
    "version": 3
   },
   "file_extension": ".py",
   "mimetype": "text/x-python",
   "name": "python",
   "nbconvert_exporter": "python",
   "pygments_lexer": "ipython3",
   "version": "3.12.9"
  }
 },
 "nbformat": 4,
 "nbformat_minor": 2
}
